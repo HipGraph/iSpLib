{
 "cells": [
  {
   "cell_type": "markdown",
   "metadata": {},
   "source": [
    "https://github.com/sw-gong/GNN-Tutorial/blob/master/GNN-tutorial-solution.ipynb"
   ]
  },
  {
   "cell_type": "code",
   "execution_count": 1,
   "metadata": {},
   "outputs": [
    {
     "name": "stderr",
     "output_type": "stream",
     "text": [
      "/N/u/m/mdshoque/.conda/envs/py39/lib/python3.9/site-packages/tqdm/auto.py:22: TqdmWarning: IProgress not found. Please update jupyter and ipywidgets. See https://ipywidgets.readthedocs.io/en/stable/user_install.html\n",
      "  from .autonotebook import tqdm as notebook_tqdm\n"
     ]
    },
    {
     "name": "stdout",
     "output_type": "stream",
     "text": [
      "Using FusedMM SpMM...\n"
     ]
    },
    {
     "data": {
      "text/plain": [
       "tensor([[96., 16.],\n",
       "        [ 8., 20.],\n",
       "        [96., 19.]])"
      ]
     },
     "execution_count": 1,
     "metadata": {},
     "output_type": "execute_result"
    }
   ],
   "source": [
    "import builtins\n",
    "\n",
    "from isplib.matmul import *\n",
    "from isplib.tensor import SparseTensor\n",
    "from scipy.sparse import coo_matrix\n",
    "import torch \n",
    "\n",
    "index = torch.tensor([[0, 0, 1, 2, 2],\n",
    "                      [0, 2, 1, 0, 1]])\n",
    "value = torch.Tensor([1, 2, 4, 1, 3])\n",
    "matrix = torch.Tensor([[90, 4], [2, 5], [3, 6]])\n",
    "\n",
    "a = SparseTensor.from_scipy(coo_matrix((value, index), shape=(3, 3)))\n",
    "b = matrix\n",
    "builtins.FUSEDMM = False\n",
    "spmm_sum(a, b)\n"
   ]
  },
  {
   "cell_type": "code",
   "execution_count": null,
   "metadata": {},
   "outputs": [],
   "source": []
  }
 ],
 "metadata": {
  "kernelspec": {
   "display_name": "Python 3.9.13 ('py39')",
   "language": "python",
   "name": "python3"
  },
  "language_info": {
   "codemirror_mode": {
    "name": "ipython",
    "version": 3
   },
   "file_extension": ".py",
   "mimetype": "text/x-python",
   "name": "python",
   "nbconvert_exporter": "python",
   "pygments_lexer": "ipython3",
   "version": "3.9.13"
  },
  "orig_nbformat": 4,
  "vscode": {
   "interpreter": {
    "hash": "20a291bea4ec1e1ffb4736fd444d207f9b4a9c37e0bb3c3196f0bc1c758e49ca"
   }
  }
 },
 "nbformat": 4,
 "nbformat_minor": 2
}
