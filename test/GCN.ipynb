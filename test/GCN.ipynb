{
 "cells": [
  {
   "cell_type": "code",
   "execution_count": null,
   "metadata": {},
   "outputs": [],
   "source": [
    "import builtins\n",
    "\n",
    "from torch_sparse.matmul import *\n",
    "from torch_sparse.tensor import SparseTensor\n",
    "from scipy.sparse import coo_matrix\n",
    "import torch \n",
    "\n",
    "index = torch.tensor([[0, 0, 1, 2, 2],\n",
    "                      [0, 2, 1, 0, 1]])\n",
    "value = torch.Tensor([1, 2, 4, 1, 3])\n",
    "matrix = torch.Tensor([[90, 4], [2, 5], [3, 6]])\n",
    "\n",
    "a = SparseTensor.from_scipy(coo_matrix((value, index), shape=(3, 3)))\n",
    "b = matrix\n",
    "builtins.TRAINING_STATUS = False\n",
    "spmm_sum(a, b)"
   ]
  },
  {
   "cell_type": "code",
   "execution_count": 2,
   "metadata": {},
   "outputs": [
    {
     "name": "stderr",
     "output_type": "stream",
     "text": [
      "Downloading https://github.com/kimiyoung/planetoid/raw/master/data/ind.cora.x\n",
      "Downloading https://github.com/kimiyoung/planetoid/raw/master/data/ind.cora.tx\n",
      "Downloading https://github.com/kimiyoung/planetoid/raw/master/data/ind.cora.allx\n",
      "Downloading https://github.com/kimiyoung/planetoid/raw/master/data/ind.cora.y\n",
      "Downloading https://github.com/kimiyoung/planetoid/raw/master/data/ind.cora.ty\n",
      "Downloading https://github.com/kimiyoung/planetoid/raw/master/data/ind.cora.ally\n",
      "Downloading https://github.com/kimiyoung/planetoid/raw/master/data/ind.cora.graph\n",
      "Downloading https://github.com/kimiyoung/planetoid/raw/master/data/ind.cora.test.index\n",
      "Processing...\n",
      "Done!\n"
     ]
    }
   ],
   "source": [
    "import builtins\n",
    "builtins.TRAINING_STATUS = True\n",
    "\n",
    "\n",
    "import torch\n",
    "import torch.nn as nn\n",
    "import torch.nn.functional as F\n",
    "import torchvision\n",
    "import torchvision.transforms as transforms\n",
    "import sklearn.metrics as metrics\n",
    "\n",
    "from torch_geometric.datasets import Planetoid\n",
    "import torch_geometric.transforms as T\n",
    "dataset = Planetoid(\"Planetoid\", name=\"Cora\", transform=T.ToSparseTensor())\n",
    "\n",
    "import torch\n",
    "import torch.nn.functional as F\n",
    "from torch_geometric.nn import GCNConv\n",
    "from torch_geometric.nn import SAGEConv\n",
    "from torch_sparse.tensor import SparseTensor\n",
    "\n",
    "class Net(torch.nn.Module):\n",
    "    def __init__(self):\n",
    "        super(Net, self).__init__()\n",
    "        self.conv1 = GCNConv(dataset.num_node_features, 16, cached=True)\n",
    "        self.conv2 = GCNConv(16, dataset.num_classes, cached=True)\n",
    "\n",
    "    def forward(self, data):\n",
    "        x, adj_t = data.x, data.adj_t\n",
    "        x = self.conv1(x, adj_t)\n",
    "        x = F.relu(x)\n",
    "        x = F.dropout(x, training=self.training)\n",
    "        x = self.conv2(x, adj_t)\n",
    "\n",
    "        return F.log_softmax(x, dim=1)\n",
    "\n"
   ]
  },
  {
   "cell_type": "code",
   "execution_count": 10,
   "metadata": {},
   "outputs": [],
   "source": [
    "device = torch.device('cuda' if torch.cuda.is_available() else 'cpu')\n",
    "model = Net().to(device)\n",
    "data = dataset[0].to(device)\n",
    "\n",
    "def train_GCN():\n",
    "  builtins.TRAINING_STATUS = True\n",
    "  optimizer = torch.optim.Adam(model.parameters(), lr=0.01, weight_decay=5e-4)\n",
    "\n",
    "  model.train()\n",
    "  for epoch in range(10):\n",
    "      optimizer.zero_grad()\n",
    "      out = model(data)\n",
    "      loss = F.nll_loss(out[data.train_mask], data.y[data.train_mask])\n",
    "      loss.backward()\n",
    "      optimizer.step()\n",
    "      \n",
    "      _, pred = model(data).max(dim=1)\n",
    "      correct = float (pred[data.train_mask].eq(data.y[data.train_mask]).sum().item())\n",
    "      acc = correct / data.train_mask.sum().item()\n",
    "      print('Epoch: %d, Accuracy: %.4f'%(epoch,acc))\n",
    "\n",
    "def test_GCN(status):\n",
    "  builtins.TRAINING_STATUS = status  # Use FusedMM for inference\n",
    "  _, pred = model(data).max(dim=1)\n",
    "  correct = float (pred[data.test_mask].eq(data.y[data.test_mask]).sum().item())\n",
    "  acc = correct / data.test_mask.sum().item()\n",
    "  # print('Accuracy: {:.4f}'.format(acc))\n",
    "  return acc"
   ]
  },
  {
   "cell_type": "code",
   "execution_count": 4,
   "metadata": {},
   "outputs": [],
   "source": [
    "import cProfile, pstats\n",
    "from pstats import SortKey\n",
    "\n",
    "# https://gist.github.com/romuald/0346c76cfbbbceb3e4d1\n",
    "\n",
    "def f8(x):\n",
    "    ret = \"%8.6f\" % x\n",
    "    if ret != '   0.000':\n",
    "        return ret\n",
    "    return \"%6dµs\" % (x * 1000000)\n",
    "\n",
    "pstats.f8 = f8\n"
   ]
  },
  {
   "cell_type": "code",
   "execution_count": 11,
   "metadata": {},
   "outputs": [
    {
     "name": "stdout",
     "output_type": "stream",
     "text": [
      "Epoch: 0, Accuracy: 0.6000\n",
      "Epoch: 1, Accuracy: 0.6714\n",
      "Epoch: 2, Accuracy: 0.7714\n",
      "Epoch: 3, Accuracy: 0.7857\n",
      "Epoch: 4, Accuracy: 0.8143\n",
      "Epoch: 5, Accuracy: 0.8286\n",
      "Epoch: 6, Accuracy: 0.9214\n",
      "Epoch: 7, Accuracy: 0.9000\n",
      "Epoch: 8, Accuracy: 0.8714\n",
      "Epoch: 9, Accuracy: 0.9143\n"
     ]
    }
   ],
   "source": [
    "train_GCN()"
   ]
  },
  {
   "cell_type": "code",
   "execution_count": 13,
   "metadata": {},
   "outputs": [
    {
     "name": "stdout",
     "output_type": "stream",
     "text": [
      "Using FusedMM SpMM...\n",
      "Using FusedMM SpMM...\n"
     ]
    },
    {
     "data": {
      "text/plain": [
       "(0.681, 0.693)"
      ]
     },
     "execution_count": 13,
     "metadata": {},
     "output_type": "execute_result"
    }
   ],
   "source": [
    "# cProfile.run('test_GCN(False)', sort=SortKey.CUMULATIVE)\n",
    "test_GCN(True), test_GCN(False)"
   ]
  },
  {
   "cell_type": "code",
   "execution_count": null,
   "metadata": {},
   "outputs": [],
   "source": [
    "cProfile.run('test_GCN(True)', sort=SortKey.CUMULATIVE)\n",
    "# 2 0.000649 0.000324 0.000649 0.000324 {built-in method torch._ops.torch_sparse.spmm_sum}\n",
    "# 2 0.000325 0.000162 0.000325 0.000162 {built-in method torch._ops.torch_sparse.fusedmm_spmm}"
   ]
  },
  {
   "cell_type": "code",
   "execution_count": null,
   "metadata": {},
   "outputs": [],
   "source": []
  }
 ],
 "metadata": {
  "kernelspec": {
   "display_name": "Python 3.9.13 ('py39')",
   "language": "python",
   "name": "python3"
  },
  "language_info": {
   "codemirror_mode": {
    "name": "ipython",
    "version": 3
   },
   "file_extension": ".py",
   "mimetype": "text/x-python",
   "name": "python",
   "nbconvert_exporter": "python",
   "pygments_lexer": "ipython3",
   "version": "3.9.13"
  },
  "orig_nbformat": 4,
  "vscode": {
   "interpreter": {
    "hash": "20a291bea4ec1e1ffb4736fd444d207f9b4a9c37e0bb3c3196f0bc1c758e49ca"
   }
  }
 },
 "nbformat": 4,
 "nbformat_minor": 2
}
