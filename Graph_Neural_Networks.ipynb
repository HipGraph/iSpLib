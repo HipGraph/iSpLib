{
 "cells": [
  {
   "cell_type": "markdown",
   "metadata": {
    "colab_type": "text",
    "id": "1gBxcjRDEliK"
   },
   "source": [
    "# Graph Neural Networks\n",
    "\n",
    "In this tutorial, we will explore the implementation of graph neural networks and investigate what representations these networks learn. Along the way, we'll see how PyTorch Geometric and TensorBoardX can help us with constructing and training graph models."
   ]
  },
  {
   "cell_type": "markdown",
   "metadata": {
    "colab_type": "text",
    "id": "BwdncyH6CEZ9"
   },
   "source": [
    "# Preliminaries: PyTorch"
   ]
  },
  {
   "cell_type": "code",
   "execution_count": 10,
   "metadata": {
    "colab": {},
    "colab_type": "code",
    "id": "YNtPXYKmCVow"
   },
   "outputs": [],
   "source": [
    "import torch\n",
    "import torch.nn as nn\n",
    "import torch.nn.functional as F\n",
    "import torchvision\n",
    "import torchvision.transforms as transforms\n",
    "import sklearn.metrics as metrics"
   ]
  },
  {
   "cell_type": "markdown",
   "metadata": {},
   "source": [
    "# Graph Neural Network\n",
    "# We first need to load the Cora dataset:"
   ]
  },
  {
   "cell_type": "code",
   "execution_count": 11,
   "metadata": {},
   "outputs": [],
   "source": [
    "from torch_geometric.datasets import Planetoid\n",
    "\n",
    "dataset = Planetoid(root='/tmp/Cora', name='Cora')\n",
    "\n"
   ]
  },
  {
   "cell_type": "markdown",
   "metadata": {},
   "source": [
    "# Now let’s implement a two-layer GCN\n",
    "The constructor defines two GCNConv layers which get called in the forward pass of our network. Note that the non-linearity is not integrated in the conv calls and hence needs to be applied afterwards (something which is consistent accross all operators in PyTorch Geometric). Here, we chose to use ReLU as our intermediate non-linearity between and finally output a softmax distribution over the number of classes. Let’s train this model on the train nodes for 200 epochs:"
   ]
  },
  {
   "cell_type": "code",
   "execution_count": 12,
   "metadata": {},
   "outputs": [],
   "source": [
    "import torch\n",
    "import torch.nn.functional as F\n",
    "from torch_geometric.nn import GCNConv\n",
    "from torch_geometric.nn import SAGEConv\n",
    "\n",
    "class Net(torch.nn.Module):\n",
    "    def __init__(self):\n",
    "        super(Net, self).__init__()\n",
    "        # you can change convolutions here \n",
    "        #self.conv1 = SAGEConv(dataset.num_node_features, 16)\n",
    "        #self.conv2 = SAGEConv(16, dataset.num_classes)\n",
    "        self.conv1 = GCNConv(dataset.num_node_features, 16)\n",
    "        self.conv2 = GCNConv(16, dataset.num_classes)\n",
    "\n",
    "    def forward(self, data):\n",
    "        x, edge_index = data.x, data.edge_index\n",
    "\n",
    "        x = self.conv1(x, edge_index)\n",
    "        x = F.relu(x)\n",
    "        x = F.dropout(x, training=self.training)\n",
    "        x = self.conv2(x, edge_index)\n",
    "\n",
    "        return F.log_softmax(x, dim=1)"
   ]
  },
  {
   "cell_type": "markdown",
   "metadata": {},
   "source": [
    "# Let’s train this model on the train nodes for 200 epochs:"
   ]
  },
  {
   "cell_type": "code",
   "execution_count": 13,
   "metadata": {},
   "outputs": [
    {
     "name": "stdout",
     "output_type": "stream",
     "text": [
      "Epoch: 0, Accuracy: 0.5143\n",
      "Epoch: 1, Accuracy: 0.6500\n",
      "Epoch: 2, Accuracy: 0.7571\n",
      "Epoch: 3, Accuracy: 0.8214\n",
      "Epoch: 4, Accuracy: 0.8714\n",
      "Epoch: 5, Accuracy: 0.8929\n",
      "Epoch: 6, Accuracy: 0.9143\n",
      "Epoch: 7, Accuracy: 0.8929\n",
      "Epoch: 8, Accuracy: 0.9286\n",
      "Epoch: 9, Accuracy: 0.9500\n",
      "Epoch: 10, Accuracy: 0.9643\n",
      "Epoch: 11, Accuracy: 0.9429\n",
      "Epoch: 12, Accuracy: 0.9429\n",
      "Epoch: 13, Accuracy: 0.9571\n",
      "Epoch: 14, Accuracy: 0.9571\n",
      "Epoch: 15, Accuracy: 0.9643\n",
      "Epoch: 16, Accuracy: 0.9571\n",
      "Epoch: 17, Accuracy: 0.9571\n",
      "Epoch: 18, Accuracy: 0.9786\n",
      "Epoch: 19, Accuracy: 0.9857\n",
      "Epoch: 20, Accuracy: 0.9786\n",
      "Epoch: 21, Accuracy: 0.9786\n",
      "Epoch: 22, Accuracy: 0.9929\n",
      "Epoch: 23, Accuracy: 0.9714\n",
      "Epoch: 24, Accuracy: 0.9786\n",
      "Epoch: 25, Accuracy: 0.9714\n",
      "Epoch: 26, Accuracy: 0.9786\n",
      "Epoch: 27, Accuracy: 0.9857\n",
      "Epoch: 28, Accuracy: 1.0000\n",
      "Epoch: 29, Accuracy: 0.9643\n",
      "Epoch: 30, Accuracy: 0.9857\n",
      "Epoch: 31, Accuracy: 0.9929\n",
      "Epoch: 32, Accuracy: 0.9929\n",
      "Epoch: 33, Accuracy: 0.9929\n",
      "Epoch: 34, Accuracy: 1.0000\n",
      "Epoch: 35, Accuracy: 0.9857\n",
      "Epoch: 36, Accuracy: 0.9929\n",
      "Epoch: 37, Accuracy: 1.0000\n",
      "Epoch: 38, Accuracy: 1.0000\n",
      "Epoch: 39, Accuracy: 1.0000\n",
      "Epoch: 40, Accuracy: 0.9929\n",
      "Epoch: 41, Accuracy: 0.9929\n",
      "Epoch: 42, Accuracy: 1.0000\n",
      "Epoch: 43, Accuracy: 1.0000\n",
      "Epoch: 44, Accuracy: 1.0000\n",
      "Epoch: 45, Accuracy: 0.9929\n",
      "Epoch: 46, Accuracy: 1.0000\n",
      "Epoch: 47, Accuracy: 0.9857\n",
      "Epoch: 48, Accuracy: 0.9929\n",
      "Epoch: 49, Accuracy: 1.0000\n",
      "Epoch: 50, Accuracy: 1.0000\n",
      "Epoch: 51, Accuracy: 0.9857\n",
      "Epoch: 52, Accuracy: 1.0000\n",
      "Epoch: 53, Accuracy: 0.9929\n",
      "Epoch: 54, Accuracy: 1.0000\n",
      "Epoch: 55, Accuracy: 1.0000\n",
      "Epoch: 56, Accuracy: 0.9857\n",
      "Epoch: 57, Accuracy: 1.0000\n",
      "Epoch: 58, Accuracy: 1.0000\n",
      "Epoch: 59, Accuracy: 0.9929\n",
      "Epoch: 60, Accuracy: 0.9857\n",
      "Epoch: 61, Accuracy: 0.9929\n",
      "Epoch: 62, Accuracy: 1.0000\n",
      "Epoch: 63, Accuracy: 1.0000\n",
      "Epoch: 64, Accuracy: 1.0000\n",
      "Epoch: 65, Accuracy: 0.9929\n",
      "Epoch: 66, Accuracy: 0.9929\n",
      "Epoch: 67, Accuracy: 1.0000\n",
      "Epoch: 68, Accuracy: 1.0000\n",
      "Epoch: 69, Accuracy: 1.0000\n",
      "Epoch: 70, Accuracy: 1.0000\n",
      "Epoch: 71, Accuracy: 1.0000\n",
      "Epoch: 72, Accuracy: 1.0000\n",
      "Epoch: 73, Accuracy: 1.0000\n",
      "Epoch: 74, Accuracy: 1.0000\n",
      "Epoch: 75, Accuracy: 1.0000\n",
      "Epoch: 76, Accuracy: 1.0000\n",
      "Epoch: 77, Accuracy: 1.0000\n",
      "Epoch: 78, Accuracy: 1.0000\n",
      "Epoch: 79, Accuracy: 1.0000\n",
      "Epoch: 80, Accuracy: 1.0000\n",
      "Epoch: 81, Accuracy: 1.0000\n",
      "Epoch: 82, Accuracy: 1.0000\n",
      "Epoch: 83, Accuracy: 0.9929\n",
      "Epoch: 84, Accuracy: 1.0000\n",
      "Epoch: 85, Accuracy: 1.0000\n",
      "Epoch: 86, Accuracy: 0.9929\n",
      "Epoch: 87, Accuracy: 0.9786\n",
      "Epoch: 88, Accuracy: 0.9929\n",
      "Epoch: 89, Accuracy: 1.0000\n",
      "Epoch: 90, Accuracy: 0.9929\n",
      "Epoch: 91, Accuracy: 1.0000\n",
      "Epoch: 92, Accuracy: 1.0000\n",
      "Epoch: 93, Accuracy: 1.0000\n",
      "Epoch: 94, Accuracy: 1.0000\n",
      "Epoch: 95, Accuracy: 0.9857\n",
      "Epoch: 96, Accuracy: 1.0000\n",
      "Epoch: 97, Accuracy: 1.0000\n",
      "Epoch: 98, Accuracy: 1.0000\n",
      "Epoch: 99, Accuracy: 1.0000\n"
     ]
    }
   ],
   "source": [
    "device = torch.device('cuda' if torch.cuda.is_available() else 'cpu')\n",
    "model = Net().to(device)\n",
    "data = dataset[0].to(device)\n",
    "optimizer = torch.optim.Adam(model.parameters(), lr=0.01, weight_decay=5e-4)\n",
    "\n",
    "model.train()\n",
    "for epoch in range(100):\n",
    "    optimizer.zero_grad()\n",
    "    out = model(data)\n",
    "    loss = F.nll_loss(out[data.train_mask], data.y[data.train_mask])\n",
    "    loss.backward()\n",
    "    optimizer.step()\n",
    "    \n",
    "    _, pred = model(data).max(dim=1)\n",
    "    correct = float (pred[data.train_mask].eq(data.y[data.train_mask]).sum().item())\n",
    "    acc = correct / data.train_mask.sum().item()\n",
    "    print('Epoch: %d, Accuracy: %.4f'%(epoch,acc))"
   ]
  },
  {
   "cell_type": "markdown",
   "metadata": {},
   "source": [
    "# Finally we can evaluate our model on the test nodes:"
   ]
  },
  {
   "cell_type": "code",
   "execution_count": 14,
   "metadata": {},
   "outputs": [
    {
     "name": "stdout",
     "output_type": "stream",
     "text": [
      "Accuracy: 0.7540\n"
     ]
    }
   ],
   "source": [
    "_, pred = model(data).max(dim=1)\n",
    "correct = float (pred[data.test_mask].eq(data.y[data.test_mask]).sum().item())\n",
    "acc = correct / data.test_mask.sum().item()\n",
    "print('Accuracy: {:.4f}'.format(acc))"
   ]
  },
  {
   "cell_type": "markdown",
   "metadata": {},
   "source": [
    "More examples: https://github.com/rusty1s/pytorch_geometric/tree/master/examples"
   ]
  },
  {
   "cell_type": "code",
   "execution_count": null,
   "metadata": {},
   "outputs": [],
   "source": []
  }
 ],
 "metadata": {
  "accelerator": "GPU",
  "colab": {
   "collapsed_sections": [],
   "name": "Graph Neural Networks",
   "provenance": []
  },
  "kernelspec": {
   "display_name": "Python 3.9.10 ('venv': venv)",
   "language": "python",
   "name": "python3"
  },
  "language_info": {
   "codemirror_mode": {
    "name": "ipython",
    "version": 3
   },
   "file_extension": ".py",
   "mimetype": "text/x-python",
   "name": "python",
   "nbconvert_exporter": "python",
   "pygments_lexer": "ipython3",
   "version": "3.9.10"
  },
  "vscode": {
   "interpreter": {
    "hash": "2895774336e31ec511eeb918226975f21e53ec70b147b87d0b7a149af79c38a7"
   }
  }
 },
 "nbformat": 4,
 "nbformat_minor": 1
}
