{
 "cells": [
  {
   "cell_type": "markdown",
   "metadata": {
    "colab_type": "text",
    "id": "1gBxcjRDEliK"
   },
   "source": [
    "# Graph Neural Networks\n",
    "\n",
    "In this tutorial, we will explore the implementation of graph neural networks and investigate what representations these networks learn. Along the way, we'll see how PyTorch Geometric and TensorBoardX can help us with constructing and training graph models."
   ]
  },
  {
   "cell_type": "markdown",
   "metadata": {
    "colab_type": "text",
    "id": "BwdncyH6CEZ9"
   },
   "source": [
    "# Preliminaries: PyTorch"
   ]
  },
  {
   "cell_type": "code",
   "execution_count": 1,
   "metadata": {
    "colab": {},
    "colab_type": "code",
    "id": "YNtPXYKmCVow"
   },
   "outputs": [],
   "source": [
    "import torch\n",
    "import torch.nn as nn\n",
    "import torch.nn.functional as F\n",
    "import torchvision\n",
    "import torchvision.transforms as transforms\n",
    "import sklearn.metrics as metrics"
   ]
  },
  {
   "cell_type": "markdown",
   "metadata": {},
   "source": [
    "# Graph Neural Network\n",
    "# We first need to load the Cora dataset:"
   ]
  },
  {
   "cell_type": "code",
   "execution_count": 2,
   "metadata": {},
   "outputs": [],
   "source": [
    "from torch_geometric.datasets import Planetoid\n",
    "import torch_geometric.transforms as T\n",
    "dataset = Planetoid(\"Planetoid\", name=\"Cora\", transform=T.ToSparseTensor())"
   ]
  },
  {
   "cell_type": "markdown",
   "metadata": {},
   "source": [
    "# Now let’s implement a two-layer GCN\n",
    "The constructor defines two GCNConv layers which get called in the forward pass of our network. Note that the non-linearity is not integrated in the conv calls and hence needs to be applied afterwards (something which is consistent accross all operators in PyTorch Geometric). Here, we chose to use ReLU as our intermediate non-linearity between and finally output a softmax distribution over the number of classes. Let’s train this model on the train nodes for 200 epochs:"
   ]
  },
  {
   "cell_type": "code",
   "execution_count": 3,
   "metadata": {},
   "outputs": [],
   "source": [
    "import torch\n",
    "import torch.nn.functional as F\n",
    "from torch_geometric.nn import GCNConv\n",
    "from torch_geometric.nn import SAGEConv\n",
    "from the_sparse_package.tensor import SparseTensor\n",
    "\n",
    "class Net(torch.nn.Module):\n",
    "    def __init__(self):\n",
    "        super(Net, self).__init__()\n",
    "        self.conv1 = GCNConv(dataset.num_node_features, 16, cached=True)\n",
    "        self.conv2 = GCNConv(16, dataset.num_classes, cached=True)\n",
    "\n",
    "    def forward(self, data):\n",
    "        x, adj_t = data.x, data.adj_t\n",
    "        x = self.conv1(x, adj_t)\n",
    "        x = F.relu(x)\n",
    "        x = F.dropout(x, training=self.training)\n",
    "        x = self.conv2(x, adj_t)\n",
    "\n",
    "        return F.log_softmax(x, dim=1)"
   ]
  },
  {
   "cell_type": "markdown",
   "metadata": {},
   "source": [
    "# Let’s train this model on the train nodes for 200 epochs:"
   ]
  },
  {
   "cell_type": "code",
   "execution_count": 4,
   "metadata": {},
   "outputs": [
    {
     "name": "stdout",
     "output_type": "stream",
     "text": [
      "gcn conv initialization\n",
      "gcn conv initialization\n",
      "gcn conv forward\n",
      "gcn conv message and aggregate\n",
      "aggr add\n",
      "inside the_sparse_package matmul function\n",
      "going into spmm\n",
      "output from the cpp function  inside the cpp function \n",
      "tensor([1])\n",
      "output from the cpp function 2  inside the cpp function in a new file \n",
      "tensor([2])\n",
      "inside spmm sum\n",
      "inside the spmm_sum cpp function \n",
      "gcn conv forward\n",
      "gcn conv message and aggregate\n",
      "aggr add\n",
      "inside the_sparse_package matmul function\n",
      "going into spmm\n",
      "output from the cpp function  inside the cpp function \n",
      "tensor([1])\n",
      "output from the cpp function 2  tensor([2])\n",
      "inside spmm sum\n",
      "inside the cpp function in a new file \n",
      "inside the spmm_sum cpp function \n",
      "gcn conv forward\n",
      "gcn conv message and aggregate\n",
      "aggr add\n",
      "inside the_sparse_package matmul function\n",
      "going into spmm\n",
      "output from the cpp function  inside the cpp function \n",
      "tensor([1])\n",
      "output from the cpp function 2  inside the cpp function in a new file \n",
      "tensor([2])\n",
      "inside spmm sum\n",
      "inside the spmm_sum cpp function \n",
      "gcn conv forward\n",
      "gcn conv message and aggregate\n",
      "aggr add\n",
      "inside the_sparse_package matmul function\n",
      "going into spmm\n",
      "output from the cpp function  inside the cpp function \n",
      "tensor([1])\n",
      "inside the cpp function in a new file \n",
      "output from the cpp function 2  tensor([2])\n",
      "inside spmm sum\n",
      "inside the spmm_sum cpp function \n",
      "Epoch: 0, Accuracy: 0.5857\n",
      "gcn conv forward\n",
      "gcn conv message and aggregate\n",
      "aggr add\n",
      "inside the_sparse_package matmul function\n",
      "going into spmm\n",
      "output from the cpp function  inside the cpp function \n",
      "tensor([1])\n",
      "output from the cpp function 2  tensor([2])\n",
      "inside spmm sum\n",
      "inside the cpp function in a new file \n",
      "inside the spmm_sum cpp function \n",
      "gcn conv forward\n",
      "gcn conv message and aggregate\n",
      "aggr add\n",
      "inside the_sparse_package matmul function\n",
      "going into spmm\n",
      "output from the cpp function  inside the cpp function \n",
      "tensor([1])\n",
      "inside the cpp function in a new file \n",
      "output from the cpp function 2  tensor([2])\n",
      "inside spmm sum\n",
      "inside the spmm_sum cpp function \n",
      "gcn conv forward\n",
      "gcn conv message and aggregate\n",
      "aggr add\n",
      "inside the_sparse_package matmul function\n",
      "going into spmm\n",
      "output from the cpp function  inside the cpp function \n",
      "tensor([1])\n",
      "output from the cpp function 2  inside the cpp function in a new file \n",
      "tensor([2])\n",
      "inside spmm sum\n",
      "inside the spmm_sum cpp function \n",
      "gcn conv forward\n",
      "gcn conv message and aggregate\n",
      "aggr add\n",
      "inside the_sparse_package matmul function\n",
      "going into spmm\n",
      "output from the cpp function  inside the cpp function \n",
      "tensor([1])\n",
      "output from the cpp function 2  inside the cpp function in a new file \n",
      "tensor([2])\n",
      "inside spmm sum\n",
      "inside the spmm_sum cpp function \n",
      "Epoch: 1, Accuracy: 0.7500\n"
     ]
    }
   ],
   "source": [
    "device = torch.device('cuda' if torch.cuda.is_available() else 'cpu')\n",
    "model = Net().to(device)\n",
    "data = dataset[0].to(device)\n",
    "optimizer = torch.optim.Adam(model.parameters(), lr=0.01, weight_decay=5e-4)\n",
    "\n",
    "model.train()\n",
    "for epoch in range(2):\n",
    "    optimizer.zero_grad()\n",
    "    out = model(data)\n",
    "    loss = F.nll_loss(out[data.train_mask], data.y[data.train_mask])\n",
    "    loss.backward()\n",
    "    optimizer.step()\n",
    "    \n",
    "    _, pred = model(data).max(dim=1)\n",
    "    correct = float (pred[data.train_mask].eq(data.y[data.train_mask]).sum().item())\n",
    "    acc = correct / data.train_mask.sum().item()\n",
    "    print('Epoch: %d, Accuracy: %.4f'%(epoch,acc))"
   ]
  },
  {
   "cell_type": "markdown",
   "metadata": {},
   "source": [
    "# Finally we can evaluate our model on the test nodes:"
   ]
  },
  {
   "cell_type": "code",
   "execution_count": 5,
   "metadata": {},
   "outputs": [
    {
     "name": "stdout",
     "output_type": "stream",
     "text": [
      "gcn conv forward\n",
      "gcn conv message and aggregate\n",
      "aggr add\n",
      "inside the_sparse_package matmul function\n",
      "going into spmm\n",
      "output from the cpp function  inside the cpp function \n",
      "tensor([1])\n",
      "output from the cpp function 2  tensor([2])\n",
      "inside spmm sum\n",
      "inside the cpp function in a new file \n",
      "inside the spmm_sum cpp function \n",
      "gcn conv forward\n",
      "gcn conv message and aggregate\n",
      "aggr add\n",
      "inside the_sparse_package matmul function\n",
      "going into spmm\n",
      "output from the cpp function  inside the cpp function \n",
      "tensor([1])\n",
      "output from the cpp function 2  inside the cpp function in a new file \n",
      "tensor([2])\n",
      "inside spmm sum\n",
      "inside the spmm_sum cpp function \n",
      "Accuracy: 0.5060\n"
     ]
    }
   ],
   "source": [
    "_, pred = model(data).max(dim=1)\n",
    "correct = float (pred[data.test_mask].eq(data.y[data.test_mask]).sum().item())\n",
    "acc = correct / data.test_mask.sum().item()\n",
    "print('Accuracy: {:.4f}'.format(acc))"
   ]
  },
  {
   "cell_type": "markdown",
   "metadata": {},
   "source": [
    "More examples: https://github.com/rusty1s/pytorch_geometric/tree/master/examples"
   ]
  }
 ],
 "metadata": {
  "accelerator": "GPU",
  "colab": {
   "collapsed_sections": [],
   "name": "Graph Neural Networks",
   "provenance": []
  },
  "kernelspec": {
   "display_name": "Python 3.8.10 ('venv': venv)",
   "language": "python",
   "name": "python3"
  },
  "language_info": {
   "codemirror_mode": {
    "name": "ipython",
    "version": 3
   },
   "file_extension": ".py",
   "mimetype": "text/x-python",
   "name": "python",
   "nbconvert_exporter": "python",
   "pygments_lexer": "ipython3",
   "version": "3.8.10"
  },
  "vscode": {
   "interpreter": {
    "hash": "caa1f377832983ad44480ba427bc9885089b5d20749e2ad716827f1f162f11e2"
   }
  }
 },
 "nbformat": 4,
 "nbformat_minor": 1
}
